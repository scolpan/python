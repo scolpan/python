{
 "cells": [
  {
   "cell_type": "code",
   "execution_count": 112,
   "metadata": {},
   "outputs": [],
   "source": [
    "from pathlib import Path\n",
    "import csv"
   ]
  },
  {
   "cell_type": "code",
   "execution_count": 113,
   "metadata": {},
   "outputs": [],
   "source": [
    "csvpath_menu = Path('Resources/menu_data.csv')\n",
    "csvpath_sales = Path('Resources/sales_data.csv')\n",
    "menu_list = []\n",
    "sales_list = []\n",
    "report = {}"
   ]
  },
  {
   "cell_type": "code",
   "execution_count": 114,
   "metadata": {},
   "outputs": [],
   "source": [
    "with open(csvpath_menu, 'r') as csvfile:\n",
    "    \n",
    "    csvreader = csv.reader(csvfile, delimiter=',')\n",
    "    header = next(csvreader)\n",
    "    \n",
    "    for row in csvreader:\n",
    "        menu_list.append(row)        "
   ]
  },
  {
   "cell_type": "code",
   "execution_count": 115,
   "metadata": {},
   "outputs": [],
   "source": [
    "with open(csvpath_sales, 'r') as csvfile:\n",
    "    \n",
    "    csvreader = csv.reader(csvfile, delimiter=',')\n",
    "    header = next(csvreader)\n",
    "    \n",
    "    for row in csvreader:\n",
    "        sales_list.append(row)"
   ]
  },
  {
   "cell_type": "code",
   "execution_count": 116,
   "metadata": {},
   "outputs": [],
   "source": [
    "for sale in sales_list:\n",
    "    sale_quantity = int(sale[3])\n",
    "    sale_menuitem = sale[4]\n",
    "    \n",
    "    if not sale_menuitem in report:\n",
    "        report[sale_menuitem] = {}\n",
    "        report[sale_menuitem]['01-count'] = 0\n",
    "        report[sale_menuitem]['02-revenue'] = 0\n",
    "        report[sale_menuitem]['03-cogs'] = 0\n",
    "        report[sale_menuitem]['04-profit'] = 0\n",
    "\n",
    "    for menu in menu_list:\n",
    "        menu_item = menu[0]\n",
    "        menu_price = float(menu[3])\n",
    "        menu_cost = int(menu[4])\n",
    "        menu_profit = menu_price - menu_cost\n",
    "        \n",
    "        if sale_menuitem == menu_item:\n",
    "            report[sale_menuitem]['01-count'] += sale_quantity\n",
    "            report[sale_menuitem]['02-revenue'] += menu_price * sale_quantity\n",
    "            report[sale_menuitem]['03-cogs'] += menu_cost * sale_quantity\n",
    "            report[sale_menuitem]['04-profit'] += menu_profit * sale_quantity\n",
    "    "
   ]
  },
  {
   "cell_type": "code",
   "execution_count": 117,
   "metadata": {},
   "outputs": [],
   "source": [
    "output_path='output.txt'\n",
    "\n",
    "with open(output_path, 'w') as file:\n",
    "    for item, details in report.items():\n",
    "        file.write(\"\\nMenu Item: \" + item + \"\\n\")\n",
    "    \n",
    "        for detail in details:\n",
    "            file.write(detail + ': ' + str(details[detail]) +\"\\n\")\n",
    "        "
   ]
  },
  {
   "cell_type": "code",
   "execution_count": 118,
   "metadata": {},
   "outputs": [
    {
     "name": "stdout",
     "output_type": "stream",
     "text": [
      "\n",
      "Menu Item: spicy miso ramen\n",
      "01-count: 9238\n",
      "02-revenue: 110856.0\n",
      "03-cogs: 46190\n",
      "04-profit: 64666.0\n",
      "\n",
      "Menu Item: tori paitan ramen\n",
      "01-count: 9156\n",
      "02-revenue: 119028.0\n",
      "03-cogs: 54936\n",
      "04-profit: 64092.0\n",
      "\n",
      "Menu Item: truffle butter ramen\n",
      "01-count: 8982\n",
      "02-revenue: 125748.0\n",
      "03-cogs: 62874\n",
      "04-profit: 62874.0\n",
      "\n",
      "Menu Item: tonkotsu ramen\n",
      "01-count: 9288\n",
      "02-revenue: 120744.0\n",
      "03-cogs: 55728\n",
      "04-profit: 65016.0\n",
      "\n",
      "Menu Item: vegetarian spicy miso\n",
      "01-count: 9216\n",
      "02-revenue: 110592.0\n",
      "03-cogs: 46080\n",
      "04-profit: 64512.0\n",
      "\n",
      "Menu Item: shio ramen\n",
      "01-count: 9180\n",
      "02-revenue: 100980.0\n",
      "03-cogs: 45900\n",
      "04-profit: 55080.0\n",
      "\n",
      "Menu Item: miso crab ramen\n",
      "01-count: 8890\n",
      "02-revenue: 106680.0\n",
      "03-cogs: 53340\n",
      "04-profit: 53340.0\n",
      "\n",
      "Menu Item: nagomi shoyu\n",
      "01-count: 9132\n",
      "02-revenue: 100452.0\n",
      "03-cogs: 45660\n",
      "04-profit: 54792.0\n",
      "\n",
      "Menu Item: soft-shell miso crab ramen\n",
      "01-count: 9130\n",
      "02-revenue: 127820.0\n",
      "03-cogs: 63910\n",
      "04-profit: 63910.0\n",
      "\n",
      "Menu Item: burnt garlic tonkotsu ramen\n",
      "01-count: 9070\n",
      "02-revenue: 126980.0\n",
      "03-cogs: 54420\n",
      "04-profit: 72560.0\n",
      "\n",
      "Menu Item: vegetarian curry + king trumpet mushroom ramen\n",
      "01-count: 8824\n",
      "02-revenue: 114712.0\n",
      "03-cogs: 61768\n",
      "04-profit: 52944.0\n"
     ]
    }
   ],
   "source": [
    "for item, details in report.items():\n",
    "    print(\"\\nMenu Item: \" + item)\n",
    "    \n",
    "    for detail in details:\n",
    "        print(detail + ': ' + str(details[detail]))"
   ]
  }
 ],
 "metadata": {
  "kernelspec": {
   "display_name": "Python 3",
   "language": "python",
   "name": "python3"
  },
  "language_info": {
   "codemirror_mode": {
    "name": "ipython",
    "version": 3
   },
   "file_extension": ".py",
   "mimetype": "text/x-python",
   "name": "python",
   "nbconvert_exporter": "python",
   "pygments_lexer": "ipython3",
   "version": "3.7.9"
  }
 },
 "nbformat": 4,
 "nbformat_minor": 4
}
