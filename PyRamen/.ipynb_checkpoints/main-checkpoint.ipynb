{
 "cells": [
  {
   "cell_type": "code",
   "execution_count": 22,
   "metadata": {},
   "outputs": [],
   "source": [
    "from pathlib import Path\n",
    "import csv"
   ]
  },
  {
   "cell_type": "code",
   "execution_count": 23,
   "metadata": {},
   "outputs": [],
   "source": [
    "csvpath_menu = Path('Resources/menu_data.csv')\n",
    "csvpath_sales = Path('Resources/sales_data.csv')\n",
    "menu_list = []\n",
    "sales_list = []\n",
    "report = {}"
   ]
  },
  {
   "cell_type": "code",
   "execution_count": 24,
   "metadata": {},
   "outputs": [],
   "source": [
    "with open(csvpath_menu, 'r') as csvfile:\n",
    "    \n",
    "    csvreader = csv.reader(csvfile, delimiter=',')\n",
    "    header = next(csvreader)\n",
    "    \n",
    "    for row in csvreader:\n",
    "        menu_list.append(row)        "
   ]
  },
  {
   "cell_type": "code",
   "execution_count": 25,
   "metadata": {},
   "outputs": [],
   "source": [
    "with open(csvpath_sales, 'r') as csvfile:\n",
    "    \n",
    "    csvreader = csv.reader(csvfile, delimiter=',')\n",
    "    header = next(csvreader)\n",
    "    \n",
    "    for row in csvreader:\n",
    "        sales_list.append(row)"
   ]
  },
  {
   "cell_type": "code",
   "execution_count": 31,
   "metadata": {},
   "outputs": [],
   "source": [
    "for sale in sales_list:\n",
    "    sale_quantity = sale[3]\n",
    "    sale_menuitem = sale[4]\n",
    "    \n",
    "    \n",
    "    if not sale_menuitem in report:\n",
    "        ##print ('test')\n",
    "        report[sale_menuitem] = {}\n",
    "    \n",
    "        report[sale_menuitem]['01-count'] = 0\n",
    "        report[sale_menuitem]['02-revenue'] = 0\n",
    "        report[sale_menuitem]['03-cogs'] = 0\n",
    "        report[sale_menuitem]['04-profit'] = 0\n",
    "\n",
    "    \n",
    "    for menu in menu_list:\n",
    "        menu_item = menu[0]\n",
    "        menu_price = int(menu[3])\n",
    "        menu_cost = int(menu[4])\n",
    "        \n",
    "        if sale_menuitem = menu_item:\n",
    "            \n",
    "            \n",
    "        "
   ]
  },
  {
   "cell_type": "code",
   "execution_count": 33,
   "metadata": {},
   "outputs": [
    {
     "name": "stdout",
     "output_type": "stream",
     "text": [
      "{'spicy miso ramen': {'01-count': 0, '02-revenue': 0, '03-cogs': 0, '04-profit': 0}, 'tori paitan ramen': {'01-count': 0, '02-revenue': 0, '03-cogs': 0, '04-profit': 0}, 'truffle butter ramen': {'01-count': 0, '02-revenue': 0, '03-cogs': 0, '04-profit': 0}, 'tonkotsu ramen': {'01-count': 0, '02-revenue': 0, '03-cogs': 0, '04-profit': 0}, 'vegetarian spicy miso': {'01-count': 0, '02-revenue': 0, '03-cogs': 0, '04-profit': 0}, 'shio ramen': {'01-count': 0, '02-revenue': 0, '03-cogs': 0, '04-profit': 0}, 'miso crab ramen': {'01-count': 0, '02-revenue': 0, '03-cogs': 0, '04-profit': 0}, 'nagomi shoyu': {'01-count': 0, '02-revenue': 0, '03-cogs': 0, '04-profit': 0}, 'soft-shell miso crab ramen': {'01-count': 0, '02-revenue': 0, '03-cogs': 0, '04-profit': 0}, 'burnt garlic tonkotsu ramen': {'01-count': 0, '02-revenue': 0, '03-cogs': 0, '04-profit': 0}, 'vegetarian curry + king trumpet mushroom ramen': {'01-count': 0, '02-revenue': 0, '03-cogs': 0, '04-profit': 0}}\n"
     ]
    }
   ],
   "source": [
    "print (report)"
   ]
  },
  {
   "cell_type": "code",
   "execution_count": null,
   "metadata": {},
   "outputs": [],
   "source": []
  }
 ],
 "metadata": {
  "kernelspec": {
   "display_name": "Python 3",
   "language": "python",
   "name": "python3"
  },
  "language_info": {
   "codemirror_mode": {
    "name": "ipython",
    "version": 3
   },
   "file_extension": ".py",
   "mimetype": "text/x-python",
   "name": "python",
   "nbconvert_exporter": "python",
   "pygments_lexer": "ipython3",
   "version": "3.7.9"
  }
 },
 "nbformat": 4,
 "nbformat_minor": 4
}
