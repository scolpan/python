{
 "cells": [
  {
   "cell_type": "code",
   "execution_count": 1,
   "metadata": {},
   "outputs": [],
   "source": [
    "from pathlib import Path\n",
    "import csv"
   ]
  },
  {
   "cell_type": "code",
   "execution_count": 2,
   "metadata": {},
   "outputs": [],
   "source": [
    "csvpath = Path('Resources/budget_data.csv')\n",
    "\n",
    "dates_list = []\n",
    "profits_list = []"
   ]
  },
  {
   "cell_type": "code",
   "execution_count": 3,
   "metadata": {},
   "outputs": [],
   "source": [
    "with open(csvpath, 'r') as csvfile:\n",
    "    \n",
    "    csvreader = csv.reader(csvfile, delimiter=',')\n",
    "    \n",
    "    ##Jump to first row (header)\n",
    "    header = next(csvreader)\n",
    "    \n",
    "    ##Read each row under the header.\n",
    "    for row in csvreader:\n",
    "        dates_list.append(row[0])\n",
    "        profits_list.append(int(row[1]))"
   ]
  },
  {
   "cell_type": "code",
   "execution_count": 4,
   "metadata": {},
   "outputs": [],
   "source": [
    "max_profit = max(profits_list)\n",
    "min_profit = min(profits_list)"
   ]
  },
  {
   "cell_type": "code",
   "execution_count": 5,
   "metadata": {},
   "outputs": [],
   "source": [
    "max_index = profits_list.index(max_profit)\n",
    "max_date = dates_list[max_index]\n",
    "\n",
    "min_index = profits_list.index(min_profit)\n",
    "min_date = dates_list[min_index]"
   ]
  },
  {
   "cell_type": "code",
   "execution_count": 13,
   "metadata": {},
   "outputs": [],
   "source": [
    "total_profits = sum(profits_list)\n",
    "total_months = len(profits_list)"
   ]
  },
  {
   "cell_type": "code",
   "execution_count": 16,
   "metadata": {},
   "outputs": [],
   "source": [
    "output_path='output.txt'\n",
    "\n",
    "with open(output_path, 'w') as file:\n",
    "    file.write(\"Financial Analysis\\n\")\n",
    "    file.write(f\"----------------------------\\n\")\n",
    "    file.write(f\"Total Months: {total_months}\\n\")\n",
    "    file.write(f\"Total: {total_profits}\\n\")\n",
    "    file.write(f\"Average Change: {round(total_profits / total_months, 2)}\\n\")\n",
    "    file.write(f\"Greatest Increase in profits: {max_date} (${max_profit})\\n\")\n",
    "    file.write(f\"Greatest Decrease in profits: {min_date} (${min_profit})\")"
   ]
  },
  {
   "cell_type": "code",
   "execution_count": 15,
   "metadata": {},
   "outputs": [
    {
     "name": "stdout",
     "output_type": "stream",
     "text": [
      "Financial Analysis\n",
      "----------------------------\n",
      "Total Months: 86\n",
      "Total: 38382578\n",
      "Average Change: 446309.05\n",
      "Greatest Increase in profits: Feb-2012 ($1170593)\n",
      "Greatest Decrease in profits: Sep-2013 ($-1196225)\n"
     ]
    }
   ],
   "source": [
    "print(\"Financial Analysis\")\n",
    "print(f\"----------------------------\")\n",
    "print(f\"Total Months: {total_months}\")\n",
    "print(f\"Total: {total_profits}\")\n",
    "print(f\"Average Change: {round(total_profits / total_months, 2)}\")\n",
    "print(f\"Greatest Increase in profits: {max_date} (${max_profit})\")\n",
    "print(f\"Greatest Decrease in profits: {min_date} (${min_profit})\")"
   ]
  }
 ],
 "metadata": {
  "kernelspec": {
   "display_name": "Python 3",
   "language": "python",
   "name": "python3"
  },
  "language_info": {
   "codemirror_mode": {
    "name": "ipython",
    "version": 3
   },
   "file_extension": ".py",
   "mimetype": "text/x-python",
   "name": "python",
   "nbconvert_exporter": "python",
   "pygments_lexer": "ipython3",
   "version": "3.7.9"
  }
 },
 "nbformat": 4,
 "nbformat_minor": 4
}
