{
 "cells": [
  {
   "cell_type": "code",
   "execution_count": 128,
   "metadata": {},
   "outputs": [],
   "source": [
    "from pathlib import Path\n",
    "import csv"
   ]
  },
  {
   "cell_type": "code",
   "execution_count": 129,
   "metadata": {},
   "outputs": [],
   "source": [
    "csvpath = Path('Resources/budget_data.csv')\n",
    "\n",
    "dates_list = []\n",
    "profits_list = []\n",
    "changes_list = []"
   ]
  },
  {
   "cell_type": "code",
   "execution_count": 130,
   "metadata": {},
   "outputs": [],
   "source": [
    "with open(csvpath, 'r') as csvfile:\n",
    "    \n",
    "    csvreader = csv.reader(csvfile, delimiter=',')\n",
    "    \n",
    "    ##Jump to first row (header)\n",
    "    header = next(csvreader)\n",
    "    \n",
    "    ##Read each row under the header.\n",
    "    ##create separate lists for dates and profits/losses\n",
    "    for row in csvreader:\n",
    "        dates_list.append(row[0])\n",
    "        profits_list.append(int(row[1]))\n",
    "            \n",
    "    ## go back to the top of the csv                \n",
    "    csvfile.seek(0)\n",
    "            \n",
    "    i = 0\n",
    "    j = 0    \n",
    "    ## to find the changes:\n",
    "    ## re-iterate the csv starting from the third row and subtract the profit/loss value (from the list), \n",
    "    ## from one row above on each iteration.\n",
    "    for row in csvreader:\n",
    "        if (j >= 2):\n",
    "            current_change = int(row[1]) - int(profits_list[i])\n",
    "            changes_list.append(current_change)\n",
    "            i += 1\n",
    "                      \n",
    "        j += 1\n",
    "                "
   ]
  },
  {
   "cell_type": "code",
   "execution_count": 131,
   "metadata": {},
   "outputs": [],
   "source": [
    "## define a function for average that also does the rounding\n",
    "def avg(list): \n",
    "    return round(sum(list) / len(list), 2)"
   ]
  },
  {
   "cell_type": "code",
   "execution_count": 132,
   "metadata": {},
   "outputs": [],
   "source": [
    "max_increase = max(changes_list)\n",
    "min_decrease = min(changes_list)"
   ]
  },
  {
   "cell_type": "code",
   "execution_count": 133,
   "metadata": {},
   "outputs": [],
   "source": [
    "max_index = changes_list.index(max_increase)\n",
    "## as the change list is shorter by one item and the change index starts on the second position of the profits (and dates) list, \n",
    "## we grab the date value at change index + 1 to get the matching date.\n",
    "max_date = dates_list[max_index + 1] \n",
    "\n",
    "min_index = changes_list.index(min_decrease)\n",
    "min_date = dates_list[min_index + 1]"
   ]
  },
  {
   "cell_type": "code",
   "execution_count": 134,
   "metadata": {},
   "outputs": [],
   "source": [
    "total_profits = sum(profits_list)\n",
    "total_months = len(profits_list)"
   ]
  },
  {
   "cell_type": "code",
   "execution_count": 135,
   "metadata": {},
   "outputs": [],
   "source": [
    "output_path='output.txt'\n",
    "\n",
    "with open(output_path, 'w') as file:\n",
    "    file.write(\"Financial Analysis\\n\")\n",
    "    file.write(f\"----------------------------\\n\")\n",
    "    file.write(f\"Total Months: {total_months}\\n\")\n",
    "    file.write(f\"Total: {total_profits}\\n\")\n",
    "    file.write(f\"Average Change: {avg(changes_list)}\\n\")\n",
    "    file.write(f\"Greatest Increase in profits: {max_date} (${max_increase})\\n\")\n",
    "    file.write(f\"Greatest Decrease in profits: {min_date} (${min_decrease})\")"
   ]
  },
  {
   "cell_type": "code",
   "execution_count": 136,
   "metadata": {},
   "outputs": [
    {
     "name": "stdout",
     "output_type": "stream",
     "text": [
      "Financial Analysis\n",
      "----------------------------\n",
      "Total Months: 86\n",
      "Total: 38382578\n",
      "Average Change: -2315.12\n",
      "Greatest Increase in profits: Feb-2012 ($1926159)\n",
      "Greatest Decrease in profits: Sep-2013 ($-2196167)\n"
     ]
    }
   ],
   "source": [
    "print(\"Financial Analysis\")\n",
    "print(f\"----------------------------\")\n",
    "print(f\"Total Months: {total_months}\")\n",
    "print(f\"Total: {total_profits}\")\n",
    "print(f\"Average Change: {avg(changes_list)}\")\n",
    "print(f\"Greatest Increase in profits: {max_date} (${max_increase})\")\n",
    "print(f\"Greatest Decrease in profits: {min_date} (${min_decrease})\")"
   ]
  },
  {
   "cell_type": "code",
   "execution_count": null,
   "metadata": {},
   "outputs": [],
   "source": []
  }
 ],
 "metadata": {
  "kernelspec": {
   "display_name": "Python 3",
   "language": "python",
   "name": "python3"
  },
  "language_info": {
   "codemirror_mode": {
    "name": "ipython",
    "version": 3
   },
   "file_extension": ".py",
   "mimetype": "text/x-python",
   "name": "python",
   "nbconvert_exporter": "python",
   "pygments_lexer": "ipython3",
   "version": "3.7.9"
  }
 },
 "nbformat": 4,
 "nbformat_minor": 4
}
