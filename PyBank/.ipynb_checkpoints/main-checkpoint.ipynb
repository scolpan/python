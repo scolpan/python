{
 "cells": [
  {
   "cell_type": "code",
   "execution_count": 61,
   "metadata": {},
   "outputs": [],
   "source": [
    "from pathlib import Path\n",
    "import csv"
   ]
  },
  {
   "cell_type": "code",
   "execution_count": 64,
   "metadata": {},
   "outputs": [],
   "source": [
    "csvpath = Path('Resources/budget_data.csv')\n",
    "\n",
    "dates_profits = {}\n",
    "dates_profits_list = []"
   ]
  },
  {
   "cell_type": "code",
   "execution_count": 65,
   "metadata": {},
   "outputs": [],
   "source": [
    "with open(csvpath, 'r') as csvfile:\n",
    "    \n",
    "    csvreader = csv.reader(csvfile, delimiter=',')\n",
    "    \n",
    "    ##Jump to first row (header)\n",
    "    header = next(csvreader)\n",
    "    ##print(f\"{header} <- Header\")\n",
    "    \n",
    "    ##Read each row under the header.\n",
    "    for row in csvreader:\n",
    "        \n",
    "        dates_profits[\"Date\"] = row[0]\n",
    "        dates_profits[\"Profit\"] = int(row[1])\n",
    "        \n",
    "        ##Append the dict to the list.        \n",
    "        ##print(dates_profits[\"Profits\"])        \n",
    "        dates_profits_list.append(dates_profits.copy())\n",
    "    \n",
    "        "
   ]
  },
  {
   "cell_type": "code",
   "execution_count": 69,
   "metadata": {},
   "outputs": [
    {
     "name": "stdout",
     "output_type": "stream",
     "text": [
      "Jan-2010\n",
      "984655\n"
     ]
    }
   ],
   "source": [
    "print (dates_profits_list[0][\"Date\"])\n",
    "print (dates_profits_list[1][\"Profit\"])"
   ]
  },
  {
   "cell_type": "code",
   "execution_count": null,
   "metadata": {},
   "outputs": [],
   "source": []
  }
 ],
 "metadata": {
  "kernelspec": {
   "display_name": "Python 3",
   "language": "python",
   "name": "python3"
  },
  "language_info": {
   "codemirror_mode": {
    "name": "ipython",
    "version": 3
   },
   "file_extension": ".py",
   "mimetype": "text/x-python",
   "name": "python",
   "nbconvert_exporter": "python",
   "pygments_lexer": "ipython3",
   "version": "3.7.9"
  }
 },
 "nbformat": 4,
 "nbformat_minor": 4
}
